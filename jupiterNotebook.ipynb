{
 "metadata": {
  "language_info": {
   "codemirror_mode": {
    "name": "ipython",
    "version": 3
   },
   "file_extension": ".py",
   "mimetype": "text/x-python",
   "name": "python",
   "nbconvert_exporter": "python",
   "pygments_lexer": "ipython3",
   "version": "3.9.2"
  },
  "orig_nbformat": 2,
  "kernelspec": {
   "name": "python392jvsc74a57bd063fd5069d213b44bf678585dea6b12cceca9941eaf7f819626cde1f2670de90d",
   "display_name": "Python 3.9.2 64-bit"
  },
  "metadata": {
   "interpreter": {
    "hash": "63fd5069d213b44bf678585dea6b12cceca9941eaf7f819626cde1f2670de90d"
   }
  }
 },
 "nbformat": 4,
 "nbformat_minor": 2,
 "cells": [
  {
   "cell_type": "code",
   "execution_count": 3,
   "metadata": {},
   "outputs": [
    {
     "output_type": "stream",
     "name": "stdout",
     "text": [
      "['Albany' 'Atlanta' 'Baltimore/Washington' 'Boise' 'Boston'\n 'Buffalo/Rochester' 'California' 'Charlotte' 'Chicago'\n 'Cincinnati/Dayton' 'Columbus' 'Dallas/Ft. Worth' 'Denver' 'Detroit'\n 'Grand Rapids' 'Great Lakes' 'Harrisburg/Scranton' 'Hartford/Springfield'\n 'Houston' 'Indianapolis' 'Jacksonville' 'Las Vegas' 'Los Angeles'\n 'Louisville' 'Miami/Ft. Lauderdale' 'Midsouth' 'Nashville'\n 'New Orleans/Mobile' 'New York' 'Northeast' 'Northern New England'\n 'Orlando' 'Philadelphia' 'Phoenix/Tucson' 'Pittsburgh' 'Plains'\n 'Portland' 'Raleigh/Greensboro' 'Richmond/Norfolk' 'Roanoke' 'Sacramento'\n 'San Diego' 'San Francisco' 'Seattle' 'South Carolina' 'South Central'\n 'Southeast' 'Spokane' 'St. Louis' 'Syracuse' 'Tampa' 'Total U.S.' 'West'\n 'West Tex/New Mexico']\n"
     ]
    }
   ],
   "source": [
    "# import pandas\n",
    "import pandas as pd \n",
    "\n",
    "# read file \n",
    "avocado_data = pd.read_csv(\"./data/raw/avocado-updated-2020.csv\")\n",
    "\n",
    "# Get all unique geos to cleanly split the data\n",
    "uniqueGeo = avocado_data['geography'].unique()\n",
    "print(uniqueGeo)"
   ]
  },
  {
   "cell_type": "code",
   "execution_count": null,
   "metadata": {},
   "outputs": [],
   "source": []
  }
 ]
}